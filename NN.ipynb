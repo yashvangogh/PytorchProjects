{
  "nbformat": 4,
  "nbformat_minor": 0,
  "metadata": {
    "colab": {
      "provenance": [],
      "authorship_tag": "ABX9TyNW+9/rHB+nslbzQRn1Nvg/",
      "include_colab_link": true
    },
    "kernelspec": {
      "name": "python3",
      "display_name": "Python 3"
    },
    "language_info": {
      "name": "python"
    }
  },
  "cells": [
    {
      "cell_type": "markdown",
      "metadata": {
        "id": "view-in-github",
        "colab_type": "text"
      },
      "source": [
        "<a href=\"https://colab.research.google.com/github/yashvangogh/PytorchProjects/blob/main/NN.ipynb\" target=\"_parent\"><img src=\"https://colab.research.google.com/assets/colab-badge.svg\" alt=\"Open In Colab\"/></a>"
      ]
    },
    {
      "cell_type": "code",
      "execution_count": 4,
      "metadata": {
        "colab": {
          "base_uri": "https://localhost:8080/"
        },
        "id": "EWmJH_ioPRbs",
        "outputId": "96323c56-8a4e-4056-b587-7cdb89c72328"
      },
      "outputs": [
        {
          "output_type": "stream",
          "name": "stdout",
          "text": [
            "Got 59564/60000 correct with 99.27 accuracy\n",
            "Got 9730/10000 correct with 97.30 accuracy\n"
          ]
        }
      ],
      "source": [
        "import torch\n",
        "import torch.nn as nn\n",
        "import torch.optim as optim\n",
        "import torch.nn.functional as F\n",
        "from torch.utils.data import DataLoader\n",
        "import torchvision.datasets as datasets\n",
        "import torchvision.transforms as transforms\n",
        "\n",
        "class NN(nn.Module):\n",
        "    def __init__(self,input_size,num_classes):\n",
        "      super(NN,self).__init__()\n",
        "      self.fc1=nn.Linear(input_size,50)\n",
        "      self.fc2=nn.Linear(50,90)\n",
        "      self.fc3=nn.Linear(90,num_classes)\n",
        "\n",
        "\n",
        "    def forward(self,x):\n",
        "        x=F.relu(self.fc1(x))\n",
        "        x=F.relu(self.fc2(x)) \n",
        "        x=self.fc3(x)\n",
        "        return x\n",
        "\n",
        "model= NN(784,10)\n",
        "\n",
        "device =torch.device('cuda' if torch.cuda.is_available() else 'cpu')\n",
        "\n",
        "input_size=784\n",
        "num_classes=10\n",
        "learning_rate= 0.001\n",
        "batch_size=64\n",
        "num_epochs= 15\n",
        "\n",
        "train_dataset= datasets.MNIST(root='dataset/', train= True,transform=transforms.ToTensor(), download=True)\n",
        "train_loader= DataLoader(dataset=train_dataset,batch_size=batch_size,shuffle= True)\n",
        "test_dataset= datasets.MNIST(root='dataset/', train= False,transform=transforms.ToTensor(), download=True)\n",
        "test_loader= DataLoader(dataset=test_dataset,batch_size=batch_size,shuffle= True)\n",
        "\n",
        "model= NN(input_size=input_size,num_classes=num_classes).to(device)\n",
        "criterion=nn.CrossEntropyLoss()\n",
        "optimiser= optim.Adam(model.parameters(),lr=learning_rate)\n",
        "\n",
        "\n",
        "for epoch in range(num_epochs):\n",
        "    for batch_idx, (data,targets) in enumerate(train_loader):\n",
        "        data=data.to(device=device)\n",
        "        targets=targets.to(device=device)\n",
        "        data=data.reshape(data.shape[0],-1)\n",
        "\n",
        "\n",
        "        scores=model(data)\n",
        "        loss=criterion(scores,targets)\n",
        "\n",
        "\n",
        "        optimiser.zero_grad()\n",
        "        loss.backward()\n",
        "        optimiser.step()\n",
        "\n",
        "\n",
        "def check_accuracy(loader,model):\n",
        "       num_correct= 0\n",
        "       num_samples=0\n",
        "       model.eval()\n",
        "\n",
        "       with torch.no_grad():\n",
        "         for x,y in loader:\n",
        "            x=x.to(device=device)\n",
        "            y=y.to(device=device)\n",
        "            x=x.reshape(x.shape[0],-1)\n",
        "\n",
        "            scores=model(x)\n",
        "            _,predictions= scores.max(1)\n",
        "            num_correct+= (predictions==y).sum()\n",
        "            num_samples+= predictions.size(0)\n",
        "\n",
        "         print(f'Got {num_correct}/{num_samples} correct with {float(num_correct)/float(num_samples)*100:.2f} accuracy')\n",
        "       model.train()\n",
        "\n",
        "\n",
        "\n",
        "check_accuracy(train_loader,model)\n",
        "check_accuracy(test_loader,model)"
      ]
    }
  ]
}